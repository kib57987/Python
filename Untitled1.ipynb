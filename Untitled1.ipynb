{
 "cells": [
  {
   "cell_type": "code",
   "execution_count": null,
   "metadata": {},
   "outputs": [
    {
     "name": "stdout",
     "output_type": "stream",
     "text": [
      "log20210316_074411 - Copy.txt\n",
      "12183784\n",
      "start:C:\\Users\\changcal\\Desktop\\test\\PhoenixMiner.exe\n",
      "remove:C:\\Users\\changcal\\Desktop\\test\\log20210316_074411 - Copy.txt\n"
     ]
    }
   ],
   "source": [
    "import os\n",
    "import time\n",
    "\n",
    "dir = \"C:\\\\Users\\\\changcal\\\\Desktop\\\\test\\\\\"\n",
    "executeCmd = \"start_miner.bat\"\n",
    "processName = \"PhoenixMiner.exe\"\n",
    "\n",
    "while(1):\n",
    "    for root, dirs, files in os.walk(dir):\n",
    "        for filename in files:\n",
    "            if filename.startswith(\"log\",0):\n",
    "              print(filename)\n",
    "              fileSize = os.stat(dir+filename).st_size\n",
    "              print(fileSize)\n",
    "              f = open(dir+filename, \"r\")  \n",
    "              if fileSize < 1504800:\n",
    "                f.seek(fileSize, 0);\n",
    "              else:\n",
    "                f.seek(fileSize-1504800, 0);\n",
    "              result = f.read(1504800)\n",
    "              if \"DevFee\" in result:\n",
    "                f.close()\n",
    "                print(\"kill:\" + processName)\n",
    "                os.system(f'wmic process where name=\"{processName}\" delete') \n",
    "                print(\"start:\" + dir + processName)\n",
    "                os.system(dir + processName)\n",
    "                print(\"remove:\" + dir + filename)\n",
    "                os.remove(dir + filename)\n",
    "    time.sleep(3)"
   ]
  },
  {
   "cell_type": "code",
   "execution_count": null,
   "metadata": {},
   "outputs": [],
   "source": []
  },
  {
   "cell_type": "code",
   "execution_count": null,
   "metadata": {},
   "outputs": [],
   "source": []
  }
 ],
 "metadata": {
  "kernelspec": {
   "display_name": "Python 3",
   "language": "python",
   "name": "python3"
  },
  "language_info": {
   "codemirror_mode": {
    "name": "ipython",
    "version": 3
   },
   "file_extension": ".py",
   "mimetype": "text/x-python",
   "name": "python",
   "nbconvert_exporter": "python",
   "pygments_lexer": "ipython3",
   "version": "3.8.5"
  }
 },
 "nbformat": 4,
 "nbformat_minor": 4
}
